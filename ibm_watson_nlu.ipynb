{
  "nbformat": 4,
  "nbformat_minor": 0,
  "metadata": {
    "colab": {
      "provenance": []
    },
    "kernelspec": {
      "name": "python3",
      "display_name": "Python 3"
    },
    "language_info": {
      "name": "python"
    },
    "widgets": {
      "application/vnd.jupyter.widget-state+json": {
        "531319ef082e40b9ba1d1e176825a589": {
          "model_module": "@jupyter-widgets/controls",
          "model_name": "TextareaModel",
          "model_module_version": "1.5.0",
          "state": {
            "_dom_classes": [],
            "_model_module": "@jupyter-widgets/controls",
            "_model_module_version": "1.5.0",
            "_model_name": "TextareaModel",
            "_view_count": null,
            "_view_module": "@jupyter-widgets/controls",
            "_view_module_version": "1.5.0",
            "_view_name": "TextareaView",
            "continuous_update": true,
            "description": "Votre Texte Ici :",
            "description_tooltip": null,
            "disabled": false,
            "layout": "IPY_MODEL_58207abe4552486e8ee5aed2a7cb2fcd",
            "placeholder": "Veuillez écrire votre texte ici...",
            "rows": null,
            "style": "IPY_MODEL_26073d63bc7f4268af6f27986d07e463",
            "value": "Ma journée semble très jolie avec cet atmosphère agréable "
          }
        },
        "58207abe4552486e8ee5aed2a7cb2fcd": {
          "model_module": "@jupyter-widgets/base",
          "model_name": "LayoutModel",
          "model_module_version": "1.2.0",
          "state": {
            "_model_module": "@jupyter-widgets/base",
            "_model_module_version": "1.2.0",
            "_model_name": "LayoutModel",
            "_view_count": null,
            "_view_module": "@jupyter-widgets/base",
            "_view_module_version": "1.2.0",
            "_view_name": "LayoutView",
            "align_content": null,
            "align_items": null,
            "align_self": null,
            "border": null,
            "bottom": null,
            "display": null,
            "flex": null,
            "flex_flow": null,
            "grid_area": null,
            "grid_auto_columns": null,
            "grid_auto_flow": null,
            "grid_auto_rows": null,
            "grid_column": null,
            "grid_gap": null,
            "grid_row": null,
            "grid_template_areas": null,
            "grid_template_columns": null,
            "grid_template_rows": null,
            "height": null,
            "justify_content": null,
            "justify_items": null,
            "left": null,
            "margin": null,
            "max_height": null,
            "max_width": null,
            "min_height": null,
            "min_width": null,
            "object_fit": null,
            "object_position": null,
            "order": null,
            "overflow": null,
            "overflow_x": null,
            "overflow_y": null,
            "padding": null,
            "right": null,
            "top": null,
            "visibility": null,
            "width": null
          }
        },
        "26073d63bc7f4268af6f27986d07e463": {
          "model_module": "@jupyter-widgets/controls",
          "model_name": "DescriptionStyleModel",
          "model_module_version": "1.5.0",
          "state": {
            "_model_module": "@jupyter-widgets/controls",
            "_model_module_version": "1.5.0",
            "_model_name": "DescriptionStyleModel",
            "_view_count": null,
            "_view_module": "@jupyter-widgets/base",
            "_view_module_version": "1.2.0",
            "_view_name": "StyleView",
            "description_width": ""
          }
        },
        "702cb5fdefd24b7b9f292a1a3e32f8b1": {
          "model_module": "@jupyter-widgets/controls",
          "model_name": "ButtonModel",
          "model_module_version": "1.5.0",
          "state": {
            "_dom_classes": [],
            "_model_module": "@jupyter-widgets/controls",
            "_model_module_version": "1.5.0",
            "_model_name": "ButtonModel",
            "_view_count": null,
            "_view_module": "@jupyter-widgets/controls",
            "_view_module_version": "1.5.0",
            "_view_name": "ButtonView",
            "button_style": "success",
            "description": "Analyser le sentiment",
            "disabled": false,
            "icon": "check",
            "layout": "IPY_MODEL_5b3fd35721054a9fb394c30285170321",
            "style": "IPY_MODEL_01cf3aad26144416a6143a5448637d92",
            "tooltip": "Cliquez pour analyser le sentiment"
          }
        },
        "5b3fd35721054a9fb394c30285170321": {
          "model_module": "@jupyter-widgets/base",
          "model_name": "LayoutModel",
          "model_module_version": "1.2.0",
          "state": {
            "_model_module": "@jupyter-widgets/base",
            "_model_module_version": "1.2.0",
            "_model_name": "LayoutModel",
            "_view_count": null,
            "_view_module": "@jupyter-widgets/base",
            "_view_module_version": "1.2.0",
            "_view_name": "LayoutView",
            "align_content": null,
            "align_items": null,
            "align_self": null,
            "border": null,
            "bottom": null,
            "display": null,
            "flex": null,
            "flex_flow": null,
            "grid_area": null,
            "grid_auto_columns": null,
            "grid_auto_flow": null,
            "grid_auto_rows": null,
            "grid_column": null,
            "grid_gap": null,
            "grid_row": null,
            "grid_template_areas": null,
            "grid_template_columns": null,
            "grid_template_rows": null,
            "height": null,
            "justify_content": null,
            "justify_items": null,
            "left": null,
            "margin": null,
            "max_height": null,
            "max_width": null,
            "min_height": null,
            "min_width": null,
            "object_fit": null,
            "object_position": null,
            "order": null,
            "overflow": null,
            "overflow_x": null,
            "overflow_y": null,
            "padding": null,
            "right": null,
            "top": null,
            "visibility": null,
            "width": null
          }
        },
        "01cf3aad26144416a6143a5448637d92": {
          "model_module": "@jupyter-widgets/controls",
          "model_name": "ButtonStyleModel",
          "model_module_version": "1.5.0",
          "state": {
            "_model_module": "@jupyter-widgets/controls",
            "_model_module_version": "1.5.0",
            "_model_name": "ButtonStyleModel",
            "_view_count": null,
            "_view_module": "@jupyter-widgets/base",
            "_view_module_version": "1.2.0",
            "_view_name": "StyleView",
            "button_color": null,
            "font_weight": ""
          }
        },
        "ccb38b9d013f49cd916a83f755b0204c": {
          "model_module": "@jupyter-widgets/controls",
          "model_name": "HTMLModel",
          "model_module_version": "1.5.0",
          "state": {
            "_dom_classes": [],
            "_model_module": "@jupyter-widgets/controls",
            "_model_module_version": "1.5.0",
            "_model_name": "HTMLModel",
            "_view_count": null,
            "_view_module": "@jupyter-widgets/controls",
            "_view_module_version": "1.5.0",
            "_view_name": "HTMLView",
            "description": "",
            "description_tooltip": null,
            "layout": "IPY_MODEL_e6ae2246c26045f1b651ca7c920c0c98",
            "placeholder": "​",
            "style": "IPY_MODEL_e79fb1afe061429281133001ebaa1c67",
            "value": "Sentiment: positive"
          }
        },
        "e6ae2246c26045f1b651ca7c920c0c98": {
          "model_module": "@jupyter-widgets/base",
          "model_name": "LayoutModel",
          "model_module_version": "1.2.0",
          "state": {
            "_model_module": "@jupyter-widgets/base",
            "_model_module_version": "1.2.0",
            "_model_name": "LayoutModel",
            "_view_count": null,
            "_view_module": "@jupyter-widgets/base",
            "_view_module_version": "1.2.0",
            "_view_name": "LayoutView",
            "align_content": null,
            "align_items": null,
            "align_self": null,
            "border": null,
            "bottom": null,
            "display": null,
            "flex": null,
            "flex_flow": null,
            "grid_area": null,
            "grid_auto_columns": null,
            "grid_auto_flow": null,
            "grid_auto_rows": null,
            "grid_column": null,
            "grid_gap": null,
            "grid_row": null,
            "grid_template_areas": null,
            "grid_template_columns": null,
            "grid_template_rows": null,
            "height": null,
            "justify_content": null,
            "justify_items": null,
            "left": null,
            "margin": null,
            "max_height": null,
            "max_width": null,
            "min_height": null,
            "min_width": null,
            "object_fit": null,
            "object_position": null,
            "order": null,
            "overflow": null,
            "overflow_x": null,
            "overflow_y": null,
            "padding": null,
            "right": null,
            "top": null,
            "visibility": null,
            "width": null
          }
        },
        "e79fb1afe061429281133001ebaa1c67": {
          "model_module": "@jupyter-widgets/controls",
          "model_name": "DescriptionStyleModel",
          "model_module_version": "1.5.0",
          "state": {
            "_model_module": "@jupyter-widgets/controls",
            "_model_module_version": "1.5.0",
            "_model_name": "DescriptionStyleModel",
            "_view_count": null,
            "_view_module": "@jupyter-widgets/base",
            "_view_module_version": "1.2.0",
            "_view_name": "StyleView",
            "description_width": ""
          }
        }
      }
    }
  },
  "cells": [
    {
      "cell_type": "markdown",
      "source": [
        "#**<font color=\"Purple\" > Step 1 : Installing and Importing the necessary libraries </font>**"
      ],
      "metadata": {
        "id": "vrVRHmntie3-"
      }
    },
    {
      "cell_type": "code",
      "source": [
        "!pip install ibm-watson"
      ],
      "metadata": {
        "colab": {
          "base_uri": "https://localhost:8080/"
        },
        "id": "V-kmZv1ySBvk",
        "outputId": "5e481965-7075-42d0-c407-bd5eb7afe7f2"
      },
      "execution_count": null,
      "outputs": [
        {
          "output_type": "stream",
          "name": "stdout",
          "text": [
            "Collecting ibm-watson\n",
            "  Downloading ibm-watson-7.0.1.tar.gz (389 kB)\n",
            "\u001b[2K     \u001b[90m━━━━━━━━━━━━━━━━━━━━━━━━━━━━━━━━━━━━━━━━\u001b[0m \u001b[32m389.3/389.3 kB\u001b[0m \u001b[31m6.1 MB/s\u001b[0m eta \u001b[36m0:00:00\u001b[0m\n",
            "\u001b[?25h  Installing build dependencies ... \u001b[?25l\u001b[?25hdone\n",
            "  Getting requirements to build wheel ... \u001b[?25l\u001b[?25hdone\n",
            "  Preparing metadata (pyproject.toml) ... \u001b[?25l\u001b[?25hdone\n",
            "Requirement already satisfied: requests<3.0,>=2.0 in /usr/local/lib/python3.10/dist-packages (from ibm-watson) (2.31.0)\n",
            "Requirement already satisfied: python-dateutil>=2.5.3 in /usr/local/lib/python3.10/dist-packages (from ibm-watson) (2.8.2)\n",
            "Requirement already satisfied: websocket-client>=1.1.0 in /usr/local/lib/python3.10/dist-packages (from ibm-watson) (1.7.0)\n",
            "Collecting ibm-cloud-sdk-core==3.*,>=3.3.6 (from ibm-watson)\n",
            "  Downloading ibm-cloud-sdk-core-3.18.2.tar.gz (57 kB)\n",
            "\u001b[2K     \u001b[90m━━━━━━━━━━━━━━━━━━━━━━━━━━━━━━━━━━━━━━━━\u001b[0m \u001b[32m57.9/57.9 kB\u001b[0m \u001b[31m5.0 MB/s\u001b[0m eta \u001b[36m0:00:00\u001b[0m\n",
            "\u001b[?25h  Installing build dependencies ... \u001b[?25l\u001b[?25hdone\n",
            "  Getting requirements to build wheel ... \u001b[?25l\u001b[?25hdone\n",
            "  Preparing metadata (pyproject.toml) ... \u001b[?25l\u001b[?25hdone\n",
            "Collecting urllib3<3.0.0,>=2.1.0 (from ibm-cloud-sdk-core==3.*,>=3.3.6->ibm-watson)\n",
            "  Downloading urllib3-2.1.0-py3-none-any.whl (104 kB)\n",
            "\u001b[2K     \u001b[90m━━━━━━━━━━━━━━━━━━━━━━━━━━━━━━━━━━━━━━━━\u001b[0m \u001b[32m104.6/104.6 kB\u001b[0m \u001b[31m6.8 MB/s\u001b[0m eta \u001b[36m0:00:00\u001b[0m\n",
            "\u001b[?25hCollecting PyJWT<3.0.0,>=2.8.0 (from ibm-cloud-sdk-core==3.*,>=3.3.6->ibm-watson)\n",
            "  Downloading PyJWT-2.8.0-py3-none-any.whl (22 kB)\n",
            "Requirement already satisfied: six>=1.5 in /usr/local/lib/python3.10/dist-packages (from python-dateutil>=2.5.3->ibm-watson) (1.16.0)\n",
            "Requirement already satisfied: charset-normalizer<4,>=2 in /usr/local/lib/python3.10/dist-packages (from requests<3.0,>=2.0->ibm-watson) (3.3.2)\n",
            "Requirement already satisfied: idna<4,>=2.5 in /usr/local/lib/python3.10/dist-packages (from requests<3.0,>=2.0->ibm-watson) (3.6)\n",
            "Requirement already satisfied: certifi>=2017.4.17 in /usr/local/lib/python3.10/dist-packages (from requests<3.0,>=2.0->ibm-watson) (2023.11.17)\n",
            "Building wheels for collected packages: ibm-watson, ibm-cloud-sdk-core\n",
            "  Building wheel for ibm-watson (pyproject.toml) ... \u001b[?25l\u001b[?25hdone\n",
            "  Created wheel for ibm-watson: filename=ibm_watson-7.0.1-py3-none-any.whl size=389784 sha256=103ee3ec55619f8e1abb4f1c0e384a3826c0587a7e9709f12eabb0f2adae7842\n",
            "  Stored in directory: /root/.cache/pip/wheels/34/df/f4/f8edc5ba0637dd4bfb2029741ae20402976a49d1b6bc113553\n",
            "  Building wheel for ibm-cloud-sdk-core (pyproject.toml) ... \u001b[?25l\u001b[?25hdone\n",
            "  Created wheel for ibm-cloud-sdk-core: filename=ibm_cloud_sdk_core-3.18.2-py3-none-any.whl size=94323 sha256=ddd69eb3e22029e8b2cf1c234d17d525d65e908cd73e1bca0f5f30defa2006f7\n",
            "  Stored in directory: /root/.cache/pip/wheels/45/5d/8f/98fc2f4bfb08a1de9c842f5aa8ef45ccef6a4505d8ab1c863c\n",
            "Successfully built ibm-watson ibm-cloud-sdk-core\n",
            "Installing collected packages: urllib3, PyJWT, ibm-cloud-sdk-core, ibm-watson\n",
            "  Attempting uninstall: urllib3\n",
            "    Found existing installation: urllib3 2.0.7\n",
            "    Uninstalling urllib3-2.0.7:\n",
            "      Successfully uninstalled urllib3-2.0.7\n",
            "  Attempting uninstall: PyJWT\n",
            "    Found existing installation: PyJWT 2.3.0\n",
            "    Uninstalling PyJWT-2.3.0:\n",
            "      Successfully uninstalled PyJWT-2.3.0\n",
            "Successfully installed PyJWT-2.8.0 ibm-cloud-sdk-core-3.18.2 ibm-watson-7.0.1 urllib3-2.1.0\n"
          ]
        }
      ]
    },
    {
      "cell_type": "code",
      "source": [
        "!!pip install python-docx"
      ],
      "metadata": {
        "colab": {
          "base_uri": "https://localhost:8080/"
        },
        "id": "a-maWVlFj6YW",
        "outputId": "3c830a9d-afed-4879-9a9a-d5375a58fb14"
      },
      "execution_count": null,
      "outputs": [
        {
          "output_type": "execute_result",
          "data": {
            "text/plain": [
              "['Collecting python-docx',\n",
              " '  Downloading python_docx-1.1.0-py3-none-any.whl (239 kB)',\n",
              " '\\x1b[?25l     \\x1b[90m━━━━━━━━━━━━━━━━━━━━━━━━━━━━━━━━━━━━━━━━\\x1b[0m \\x1b[32m0.0/239.6 kB\\x1b[0m \\x1b[31m?\\x1b[0m eta \\x1b[36m-:--:--\\x1b[0m',\n",
              " '\\x1b[2K     \\x1b[91m━━━━━━━━━━\\x1b[0m\\x1b[90m╺\\x1b[0m\\x1b[90m━━━━━━━━━━━━━━━━━━━━━━━━━━━━━\\x1b[0m \\x1b[32m61.4/239.6 kB\\x1b[0m \\x1b[31m1.7 MB/s\\x1b[0m eta \\x1b[36m0:00:01\\x1b[0m',\n",
              " '\\x1b[2K     \\x1b[90m━━━━━━━━━━━━━━━━━━━━━━━━━━━━━━━━━━━━━━━━\\x1b[0m \\x1b[32m239.6/239.6 kB\\x1b[0m \\x1b[31m3.8 MB/s\\x1b[0m eta \\x1b[36m0:00:00\\x1b[0m',\n",
              " '\\x1b[?25hRequirement already satisfied: lxml>=3.1.0 in /usr/local/lib/python3.10/dist-packages (from python-docx) (4.9.3)',\n",
              " 'Requirement already satisfied: typing-extensions in /usr/local/lib/python3.10/dist-packages (from python-docx) (4.5.0)',\n",
              " 'Installing collected packages: python-docx',\n",
              " 'Successfully installed python-docx-1.1.0']"
            ]
          },
          "metadata": {},
          "execution_count": 2
        }
      ]
    },
    {
      "cell_type": "code",
      "execution_count": null,
      "metadata": {
        "id": "cp3l9f8uRxkd"
      },
      "outputs": [],
      "source": [
        "import json\n",
        "from ibm_watson import NaturalLanguageUnderstandingV1\n",
        "from ibm_cloud_sdk_core.authenticators import IAMAuthenticator\n",
        "from ibm_watson.natural_language_understanding_v1 \\\n",
        "import Features, CategoriesOptions\n",
        "import requests\n",
        "import tkinter as tk\n",
        "from tkinter import ttk\n",
        "import ipywidgets as widgets\n",
        "from IPython.display import display\n",
        "import docx\n"
      ]
    },
    {
      "cell_type": "markdown",
      "source": [
        "#**<font color=\"Purple\" > Step 2 : Analysis of sentiment and emotion around the words “apples” and “oranges” </font>**"
      ],
      "metadata": {
        "id": "1yIDctwuo9DV"
      }
    },
    {
      "cell_type": "code",
      "source": [
        "# the necessary information :\n",
        "api_key = 'your api_key'\n",
        "url = 'your ibm url'\n",
        "\n",
        "authenticator = IAMAuthenticator(api_key)\n",
        "natural_language_understanding = NaturalLanguageUnderstandingV1(\n",
        "    version='2022-04-07',\n",
        "    authenticator=authenticator\n",
        ")\n",
        "\n",
        "natural_language_understanding.set_service_url(url)\n",
        "\n",
        "# parsing text corresponding to our URL :\n",
        "response = natural_language_understanding.analyze(\n",
        "    text='I love apples! I do not like oranges.',\n",
        "    features=Features(sentiment={\"targets\": [\"apples\", \"oranges\", \"broccoli\"]}, keywords={\"emotion\": True})\n",
        ").get_result()\n",
        "\n",
        "print(json.dumps(response, indent=2))\n"
      ],
      "metadata": {
        "colab": {
          "base_uri": "https://localhost:8080/"
        },
        "id": "O4NaI-0uR5Pn",
        "outputId": "c1f3c8a0-e002-4848-fe8e-98f5ff51a0f4"
      },
      "execution_count": null,
      "outputs": [
        {
          "output_type": "stream",
          "name": "stdout",
          "text": [
            "{\n",
            "  \"usage\": {\n",
            "    \"text_units\": 1,\n",
            "    \"text_characters\": 37,\n",
            "    \"features\": 2\n",
            "  },\n",
            "  \"sentiment\": {\n",
            "    \"targets\": [\n",
            "      {\n",
            "        \"text\": \"apples\",\n",
            "        \"score\": 0.975706,\n",
            "        \"label\": \"positive\"\n",
            "      },\n",
            "      {\n",
            "        \"text\": \"oranges\",\n",
            "        \"score\": 0,\n",
            "        \"label\": \"neutral\"\n",
            "      }\n",
            "    ],\n",
            "    \"document\": {\n",
            "      \"score\": 0.975706,\n",
            "      \"label\": \"positive\"\n",
            "    }\n",
            "  },\n",
            "  \"language\": \"en\",\n",
            "  \"keywords\": [\n",
            "    {\n",
            "      \"text\": \"apples\",\n",
            "      \"relevance\": 0.74128,\n",
            "      \"emotion\": {\n",
            "        \"sadness\": 0.020855,\n",
            "        \"joy\": 0.988253,\n",
            "        \"fear\": 0.075412,\n",
            "        \"disgust\": 0.016976,\n",
            "        \"anger\": 0.016175\n",
            "      },\n",
            "      \"count\": 1\n",
            "    },\n",
            "    {\n",
            "      \"text\": \"oranges\",\n",
            "      \"relevance\": 0.74128,\n",
            "      \"emotion\": {\n",
            "        \"sadness\": 0.100796,\n",
            "        \"joy\": 0.37857,\n",
            "        \"fear\": 0.032404,\n",
            "        \"disgust\": 0.022672,\n",
            "        \"anger\": 0.016069\n",
            "      },\n",
            "      \"count\": 1\n",
            "    }\n",
            "  ]\n",
            "}\n"
          ]
        }
      ]
    },
    {
      "cell_type": "markdown",
      "source": [
        "#**<font color=\"Purple\" > Step 3 : Sentiment and emotion analysis via Watson NLU API </font>**"
      ],
      "metadata": {
        "id": "9njYbltBq-Dd"
      }
    },
    {
      "cell_type": "code",
      "source": [
        "api_key = 'your api key'\n",
        "url = 'your ibm url'\n",
        "\n",
        "headers = {\n",
        "    'Content-Type': 'application/json',\n",
        "}\n",
        "\n",
        "data = {\n",
        "    'text': 'I love apples! I do not like oranges.',\n",
        "    'features': {\n",
        "        'sentiment': {\n",
        "            'targets': ['apples', 'oranges', 'broccoli']\n",
        "        },\n",
        "        'keywords': {\n",
        "            'emotion': True\n",
        "        }\n",
        "    }\n",
        "}\n",
        "\n",
        "response = requests.post(\n",
        "    f'{url}/v1/analyze?version=2019-07-12',\n",
        "    headers=headers,\n",
        "    auth=('apikey', api_key),\n",
        "    json=data\n",
        ")\n",
        "\n",
        "print(response.json())\n"
      ],
      "metadata": {
        "colab": {
          "base_uri": "https://localhost:8080/"
        },
        "id": "QaPkWIbcUAQZ",
        "outputId": "5a93d160-c23f-440c-b6c6-9f3a9c79770e"
      },
      "execution_count": null,
      "outputs": [
        {
          "output_type": "stream",
          "name": "stdout",
          "text": [
            "{'usage': {'text_units': 1, 'text_characters': 37, 'features': 2}, 'sentiment': {'targets': [{'text': 'apples', 'score': 0.975706, 'label': 'positive'}, {'text': 'oranges', 'score': 0, 'label': 'neutral'}], 'document': {'score': 0.975706, 'label': 'positive'}}, 'language': 'en', 'keywords': [{'text': 'apples', 'relevance': 0.74128, 'emotion': {'sadness': 0.020855, 'joy': 0.988253, 'fear': 0.075412, 'disgust': 0.016976, 'anger': 0.016175}, 'count': 1}, {'text': 'oranges', 'relevance': 0.74128, 'emotion': {'sadness': 0.100796, 'joy': 0.37857, 'fear': 0.032404, 'disgust': 0.022672, 'anger': 0.016069}, 'count': 1}]}\n"
          ]
        }
      ]
    },
    {
      "cell_type": "markdown",
      "source": [
        "#**<font color=\"Purple\" > Step 4 : Facilitating Sentiment Analysis with Interactive Widgets </font>**"
      ],
      "metadata": {
        "id": "JfWB2gqRs1DO"
      }
    },
    {
      "cell_type": "code",
      "source": [
        "# the necessary information :\n",
        "api_key = 'api key'\n",
        "url = 'url'\n",
        "\n",
        "authenticator = IAMAuthenticator(api_key)\n",
        "natural_language_understanding = NaturalLanguageUnderstandingV1(\n",
        "    version='2022-04-07',\n",
        "    authenticator=authenticator\n",
        ")\n",
        "natural_language_understanding.set_service_url(url)\n",
        "\n",
        "# Function for sentiment analysis in our text in the URL :\n",
        "def analyze_sentiment(button):\n",
        "    text_to_analyze = text_input.value\n",
        "\n",
        "    if text_to_analyze:\n",
        "        response = natural_language_understanding.analyze(\n",
        "            text=text_to_analyze,\n",
        "            features={'sentiment': {}}\n",
        "        ).get_result()\n",
        "\n",
        "        sentiment_output.value = f\"Sentiment: {response['sentiment']['document']['label']}\"\n",
        "\n",
        "# Create widgets :\n",
        "text_input = widgets.Textarea(\n",
        "    value='',\n",
        "    placeholder='Veuillez écrire votre texte ici...',\n",
        "    description='Votre Texte Ici :',\n",
        "    disabled=False\n",
        ")\n",
        "\n",
        "analyze_button = widgets.Button(\n",
        "    description=\"Analyser le sentiment\",\n",
        "    button_style='success',\n",
        "    tooltip='Cliquez pour analyser le sentiment',\n",
        "    icon='check'\n",
        ")\n",
        "\n",
        "sentiment_output = widgets.HTML(\n",
        "    value=\"Sentiment: \",\n",
        ")\n",
        "\n",
        "# Associate the analysis function with the button\n",
        "analyze_button.on_click(analyze_sentiment)\n",
        "\n",
        "# show widgets\n",
        "display(text_input)\n",
        "display(analyze_button)\n",
        "display(sentiment_output)\n",
        "\n"
      ],
      "metadata": {
        "colab": {
          "base_uri": "https://localhost:8080/",
          "height": 127,
          "referenced_widgets": [
            "531319ef082e40b9ba1d1e176825a589",
            "58207abe4552486e8ee5aed2a7cb2fcd",
            "26073d63bc7f4268af6f27986d07e463",
            "702cb5fdefd24b7b9f292a1a3e32f8b1",
            "5b3fd35721054a9fb394c30285170321",
            "01cf3aad26144416a6143a5448637d92",
            "ccb38b9d013f49cd916a83f755b0204c",
            "e6ae2246c26045f1b651ca7c920c0c98",
            "e79fb1afe061429281133001ebaa1c67"
          ]
        },
        "id": "P5Djf_rBUASq",
        "outputId": "905992c2-7977-4982-d359-3a9c289e5917"
      },
      "execution_count": null,
      "outputs": [
        {
          "output_type": "display_data",
          "data": {
            "text/plain": [
              "Textarea(value='', description='Votre Texte Ici :', placeholder='Veuillez écrire votre texte ici...')"
            ],
            "application/vnd.jupyter.widget-view+json": {
              "version_major": 2,
              "version_minor": 0,
              "model_id": "531319ef082e40b9ba1d1e176825a589"
            }
          },
          "metadata": {}
        },
        {
          "output_type": "display_data",
          "data": {
            "text/plain": [
              "Button(button_style='success', description='Analyser le sentiment', icon='check', style=ButtonStyle(), tooltip…"
            ],
            "application/vnd.jupyter.widget-view+json": {
              "version_major": 2,
              "version_minor": 0,
              "model_id": "702cb5fdefd24b7b9f292a1a3e32f8b1"
            }
          },
          "metadata": {}
        },
        {
          "output_type": "display_data",
          "data": {
            "text/plain": [
              "HTML(value='Sentiment: ')"
            ],
            "application/vnd.jupyter.widget-view+json": {
              "version_major": 2,
              "version_minor": 0,
              "model_id": "ccb38b9d013f49cd916a83f755b0204c"
            }
          },
          "metadata": {}
        }
      ]
    },
    {
      "cell_type": "markdown",
      "source": [
        "#**<font color=\"Purple\" > Step 5 : Sentiment Analysis in a Word Document with Watson NLU </font>**"
      ],
      "metadata": {
        "id": "WLEmakN7tQAe"
      }
    },
    {
      "cell_type": "code",
      "source": [
        "# the necessary information ie api_key and Watson NLU service url:\n",
        "api_key = 'api key'\n",
        "url = 'url'\n",
        "\n",
        "authenticator = IAMAuthenticator(api_key)\n",
        "natural_language_understanding = NaturalLanguageUnderstandingV1(\n",
        "    version='2022-04-07',\n",
        "    authenticator=authenticator\n",
        ")\n",
        "natural_language_understanding.set_service_url(url)\n",
        "\n",
        "# Download word document (.docx)\n",
        "docx_path = '/content/histo.docx'\n",
        "\n",
        "# extract the document that we have been downloaded :\n",
        "def extract_text_from_docx(docx_path):\n",
        "    doc = docx.Document(docx_path)\n",
        "    text = \"\"\n",
        "    for paragraph in doc.paragraphs:\n",
        "        text += paragraph.text + \"\\n\"\n",
        "    return text\n",
        "\n",
        "document_text = extract_text_from_docx(docx_path)\n",
        "\n",
        "# Apply sentiment analysis to extracted text\n",
        "response = natural_language_understanding.analyze(\n",
        "    text=document_text,\n",
        "    features={'sentiment': {}}\n",
        ").get_result()\n",
        "\n",
        "# show the results :\n",
        "print(f\"Sentiment du document : {response['sentiment']['document']['label']}\")\n",
        "\n"
      ],
      "metadata": {
        "colab": {
          "base_uri": "https://localhost:8080/"
        },
        "id": "WQgIYMBqdD5J",
        "outputId": "2c69f082-4590-492c-d8ac-7fd07709d168"
      },
      "execution_count": null,
      "outputs": [
        {
          "output_type": "stream",
          "name": "stdout",
          "text": [
            "Sentiment du document : positive\n"
          ]
        }
      ]
    },
    {
      "cell_type": "markdown",
      "source": [
        "#**<font color=\"Purple\" > Step 6 : In-depth Sentiment Analysis in the Word Document used </font>**"
      ],
      "metadata": {
        "id": "QaAAGq46upOJ"
      }
    },
    {
      "cell_type": "code",
      "source": [
        "#Apply sentiment analysis, entity analysis, emotion analysis, and keyword extraction to extracted text :\n",
        "response = natural_language_understanding.analyze(\n",
        "    text=document_text,\n",
        "    features={'sentiment': {}, 'entities': {}, 'emotion': {}, 'keywords': {}}\n",
        ").get_result()\n",
        "\n",
        "# show results :\n",
        "print(f\"Sentiment du document : {response['sentiment']['document']['label']}\")\n",
        "print(\"\\nEntités:\")\n",
        "for entity in response['entities']:\n",
        "    print(f\"- {entity['type']}: {entity['text']}\")\n",
        "\n",
        "print(\"\\nÉmotions:\")\n",
        "for emotion, score in response['emotion']['document']['emotion'].items():\n",
        "    print(f\"- {emotion}: {score}\")\n",
        "\n",
        "print(\"\\nMots-Clés:\")\n",
        "for keyword in response['keywords']:\n",
        "    print(f\"- {keyword['text']}\")\n"
      ],
      "metadata": {
        "colab": {
          "base_uri": "https://localhost:8080/"
        },
        "id": "1sUNOh9odD7a",
        "outputId": "2767ef76-cf8d-4d9a-9c22-d33b42a38a0f"
      },
      "execution_count": null,
      "outputs": [
        {
          "output_type": "stream",
          "name": "stdout",
          "text": [
            "Sentiment du document : positive\n",
            "\n",
            "Entités:\n",
            "- Person: Cristiano Ronaldo\n",
            "- Location: Funchal\n",
            "- Location: portugaise de Madère\n",
            "- Facility: Sporting Portugal\n",
            "- Location: Manchester United\n",
            "- Person: Ronaldo\n",
            "- Organization: Ligue des champions\n",
            "- Facility: Real Madrid\n",
            "- Person: Né\n",
            "- JobTitle: athlète\n",
            "- JobTitle: philanthrope\n",
            "- Date: 2008\n",
            "- Date: Aujourd'hui\n",
            "\n",
            "Émotions:\n",
            "- sadness: 0.180985\n",
            "- joy: 0.577897\n",
            "- fear: 0.045372\n",
            "- disgust: 0.041291\n",
            "- anger: 0.032203\n",
            "\n",
            "Mots-Clés:\n",
            "- Cristiano Ronaldo\n",
            "- attention du monde entier\n",
            "- Manchester United\n",
            "- sein de l'équipe de Manchester\n",
            "- ascension spectaculaire\n",
            "- détermination inébranlable\n",
            "- icône du football mondial\n",
            "- passion innée\n",
            "- athlète exceptionnel\n",
            "- légende vivante\n",
            "- ballon rond\n",
            "- Real Madrid\n",
            "- Ligue des champions\n",
            "- Sporting Portugal\n",
            "- philanthrope dévoué\n",
            "- réputation de génie du football\n",
            "- flamme ardente\n",
            "- puissance physique\n",
            "- île portugaise de Madère\n",
            "- éthique de travail\n",
            "- dehors du terrain\n",
            "- hauteurs insoupçonnées\n",
            "- records éblouissants\n",
            "- œuvres caritatives\n",
            "- talent\n",
            "- Ronaldo\n",
            "- phénix des ruelles modestes de Funchal\n",
            "- simplicité\n",
            "- passage\n",
            "- United\n",
            "- épopée\n",
            "- persévérance\n",
            "- grâce\n",
            "- terrain\n",
            "- dévouement\n",
            "- obstacles\n",
            "- nom\n",
            "- excellence\n",
            "- histoire\n",
            "- renommée\n",
            "- faille\n",
            "- admiration\n"
          ]
        }
      ]
    },
    {
      "cell_type": "markdown",
      "source": [
        "#**<font color=\"Purple\" > Step 7 : Exploring Concepts in the Document Used </font>**"
      ],
      "metadata": {
        "id": "pY4DfC7fwGlP"
      }
    },
    {
      "cell_type": "code",
      "source": [
        "response = natural_language_understanding.analyze(\n",
        "    text=document_text,\n",
        "    features={'sentiment': {}, 'entities': {}, 'emotion': {}, 'keywords': {}, 'concepts': {}}\n",
        ").get_result()\n",
        "\n",
        "# results :\n",
        "print(\"\\nConcepts:\")\n",
        "for concept in response['concepts']:\n",
        "    print(f\"- {concept['text']}\")\n"
      ],
      "metadata": {
        "colab": {
          "base_uri": "https://localhost:8080/"
        },
        "id": "Nj9KKyxPdD9l",
        "outputId": "dbc25fd5-67e7-477a-9f45-9a6171091de1"
      },
      "execution_count": null,
      "outputs": [
        {
          "output_type": "stream",
          "name": "stdout",
          "text": [
            "\n",
            "Concepts:\n",
            "- Cristiano Ronaldo\n",
            "- Madère\n",
            "- Funchal\n",
            "- Manchester United Football Club\n",
            "- Ronaldo (football)\n",
            "- Sporting Clube de Portugal\n",
            "- Football\n",
            "- Portugal\n"
          ]
        }
      ]
    },
    {
      "cell_type": "markdown",
      "source": [
        "#**<font color=\"Purple\" > Step 8 : Thematic Categorization of the Document used</font>**"
      ],
      "metadata": {
        "id": "tRtVsMmaw21I"
      }
    },
    {
      "cell_type": "code",
      "source": [
        "response = natural_language_understanding.analyze(\n",
        "    text=document_text,\n",
        "    features={'sentiment': {}, 'entities': {}, 'emotion': {}, 'keywords': {}, 'categories': {}}\n",
        ").get_result()\n",
        "\n",
        "# results :\n",
        "print(\"\\nCatégories:\")\n",
        "for category in response['categories']:\n",
        "    print(f\"- {category['label']} (Confidence: {category['score']})\")\n"
      ],
      "metadata": {
        "colab": {
          "base_uri": "https://localhost:8080/"
        },
        "id": "EEMFK8addEAf",
        "outputId": "bbbd72b3-0916-4034-c7b0-40625d326bd7"
      },
      "execution_count": null,
      "outputs": [
        {
          "output_type": "stream",
          "name": "stdout",
          "text": [
            "\n",
            "Catégories:\n",
            "- /sports/soccer (Confidence: 0.842439)\n",
            "- /sports/rugby (Confidence: 0.824237)\n",
            "- /sports/field hockey (Confidence: 0.710175)\n"
          ]
        }
      ]
    },
    {
      "cell_type": "markdown",
      "source": [
        "#**<font color=\"Purple\" > Step 9 : Semantic Relations in the Document used </font>**"
      ],
      "metadata": {
        "id": "B7ZF5jnkxeuh"
      }
    },
    {
      "cell_type": "code",
      "source": [
        "response = natural_language_understanding.analyze(\n",
        "    text=document_text,\n",
        "    features={'sentiment': {}, 'entities': {}, 'emotion': {}, 'keywords': {}, 'relations': {}}\n",
        ").get_result()\n",
        "\n",
        "# results :\n",
        "print(\"\\nRelations:\")\n",
        "for relation in response['relations']:\n",
        "    print(f\"- {relation['type']} ({relation['sentence']})\")\n"
      ],
      "metadata": {
        "colab": {
          "base_uri": "https://localhost:8080/"
        },
        "id": "rtxiG0eHdEDF",
        "outputId": "dd6f1cf4-c8d8-499f-8ac3-f85194f07ca2"
      },
      "execution_count": null,
      "outputs": [
        {
          "output_type": "stream",
          "name": "stdout",
          "text": [
            "\n",
            "Relations:\n",
            "- employedBy (Cristiano Ronaldo, l'icône du football mondial, émerge tel un phénix des ruelles modestes de Funchal, sur l'île portugaise de Madère.)\n",
            "- locatedAt (Cristiano Ronaldo, l'icône du football mondial, émerge tel un phénix des ruelles modestes de Funchal, sur l'île portugaise de Madère.)\n",
            "- locatedAt (Cristiano Ronaldo, l'icône du football mondial, émerge tel un phénix des ruelles modestes de Funchal, sur l'île portugaise de Madère.)\n",
            "- partOf (Cristiano Ronaldo, l'icône du football mondial, émerge tel un phénix des ruelles modestes de Funchal, sur l'île portugaise de Madère.)\n",
            "- locatedAt (Cristiano Ronaldo, l'icône du football mondial, émerge tel un phénix des ruelles modestes de Funchal, sur l'île portugaise de Madère.)\n",
            "- memberOf (L'attention du monde entier se focalise sur lui lors de son passage au Manchester United, où il remporte la Ligue des champions en 2008 et se forge une réputation de génie du football.)\n",
            "- memberOf (Aujourd'hui, éclatant toujours de son talent au sein de l'équipe de Manchester United, Cristiano Ronaldo demeure une légende vivante, symbolisant la persévérance, le dévouement et l'excellence sur et en dehors du terrain.)\n",
            "- partOf (Aujourd'hui, éclatant toujours de son talent au sein de l'équipe de Manchester United, Cristiano Ronaldo demeure une légende vivante, symbolisant la persévérance, le dévouement et l'excellence sur et en dehors du terrain.)\n"
          ]
        }
      ]
    },
    {
      "cell_type": "markdown",
      "source": [
        "#**<font color=\"Purple\" > Step 10 : Syntactic Analysis of the Document used </font>**"
      ],
      "metadata": {
        "id": "Wv7UIT-Lxicr"
      }
    },
    {
      "cell_type": "code",
      "source": [
        "response = natural_language_understanding.analyze(\n",
        "    text=document_text,\n",
        "    features={'syntax': {'tokens': {}}}\n",
        ").get_result()\n",
        "\n",
        "# results\n",
        "print(\"\\nSyntaxe:\")\n",
        "for token in response.get('syntax', {}).get('tokens', []):\n",
        "    text_content = token\n",
        "    print(f\"- {text_content}\")\n"
      ],
      "metadata": {
        "colab": {
          "base_uri": "https://localhost:8080/"
        },
        "id": "qhRUL1sfdEFV",
        "outputId": "9f2978a3-94d7-45e7-ce33-0d3bf2ff3f1c"
      },
      "execution_count": null,
      "outputs": [
        {
          "output_type": "stream",
          "name": "stdout",
          "text": [
            "\n",
            "Syntaxe:\n",
            "- {'text': 'Cristiano', 'location': [0, 9]}\n",
            "- {'text': 'Ronaldo', 'location': [10, 17]}\n",
            "- {'text': ',', 'location': [17, 18]}\n",
            "- {'text': \"l'\", 'location': [19, 21]}\n",
            "- {'text': 'icône', 'location': [21, 26]}\n",
            "- {'text': 'du', 'location': [27, 29]}\n",
            "- {'text': 'football', 'location': [30, 38]}\n",
            "- {'text': 'mondial', 'location': [39, 46]}\n",
            "- {'text': ',', 'location': [46, 47]}\n",
            "- {'text': 'émerge', 'location': [48, 54]}\n",
            "- {'text': 'tel', 'location': [55, 58]}\n",
            "- {'text': 'un', 'location': [59, 61]}\n",
            "- {'text': 'phénix', 'location': [62, 68]}\n",
            "- {'text': 'des', 'location': [69, 72]}\n",
            "- {'text': 'ruelles', 'location': [73, 80]}\n",
            "- {'text': 'modestes', 'location': [81, 89]}\n",
            "- {'text': 'de', 'location': [90, 92]}\n",
            "- {'text': 'Funchal', 'location': [93, 100]}\n",
            "- {'text': ',', 'location': [100, 101]}\n",
            "- {'text': 'sur', 'location': [102, 105]}\n",
            "- {'text': \"l'\", 'location': [106, 108]}\n",
            "- {'text': 'île', 'location': [108, 111]}\n",
            "- {'text': 'portugaise', 'location': [112, 122]}\n",
            "- {'text': 'de', 'location': [123, 125]}\n",
            "- {'text': 'Madère', 'location': [126, 132]}\n",
            "- {'text': '.', 'location': [132, 133]}\n",
            "- {'text': 'Né', 'location': [134, 136]}\n",
            "- {'text': 'dans', 'location': [137, 141]}\n",
            "- {'text': 'la', 'location': [142, 144]}\n",
            "- {'text': 'simplicité', 'location': [145, 155]}\n",
            "- {'text': ',', 'location': [155, 156]}\n",
            "- {'text': 'sa', 'location': [157, 159]}\n",
            "- {'text': 'passion', 'location': [160, 167]}\n",
            "- {'text': 'innée', 'location': [168, 173]}\n",
            "- {'text': 'pour', 'location': [174, 178]}\n",
            "- {'text': 'le', 'location': [179, 181]}\n",
            "- {'text': 'ballon', 'location': [182, 188]}\n",
            "- {'text': 'rond', 'location': [189, 193]}\n",
            "- {'text': 'devient', 'location': [194, 201]}\n",
            "- {'text': 'rapidement', 'location': [202, 212]}\n",
            "- {'text': 'une', 'location': [213, 216]}\n",
            "- {'text': 'flamme', 'location': [217, 223]}\n",
            "- {'text': 'ardente', 'location': [224, 231]}\n",
            "- {'text': 'qui', 'location': [232, 235]}\n",
            "- {'text': 'le', 'location': [236, 238]}\n",
            "- {'text': 'propulse', 'location': [239, 247]}\n",
            "- {'text': 'vers', 'location': [248, 252]}\n",
            "- {'text': 'des', 'location': [253, 256]}\n",
            "- {'text': 'hauteurs', 'location': [257, 265]}\n",
            "- {'text': 'insoupçonnées', 'location': [266, 279]}\n",
            "- {'text': '.', 'location': [279, 280]}\n",
            "- {'text': 'Doté', 'location': [281, 285]}\n",
            "- {'text': \"d'\", 'location': [286, 288]}\n",
            "- {'text': 'une', 'location': [288, 291]}\n",
            "- {'text': 'détermination', 'location': [292, 305]}\n",
            "- {'text': 'inébranlable', 'location': [306, 318]}\n",
            "- {'text': ',', 'location': [318, 319]}\n",
            "- {'text': 'Ronaldo', 'location': [320, 327]}\n",
            "- {'text': 'transcende', 'location': [328, 338]}\n",
            "- {'text': 'les', 'location': [339, 342]}\n",
            "- {'text': 'obstacles', 'location': [343, 352]}\n",
            "- {'text': 'avec', 'location': [353, 357]}\n",
            "- {'text': 'une', 'location': [358, 361]}\n",
            "- {'text': 'éthique', 'location': [362, 369]}\n",
            "- {'text': 'de', 'location': [370, 372]}\n",
            "- {'text': 'travail', 'location': [373, 380]}\n",
            "- {'text': 'sans', 'location': [381, 385]}\n",
            "- {'text': 'faille', 'location': [386, 392]}\n",
            "- {'text': '.', 'location': [392, 393]}\n",
            "- {'text': 'Son', 'location': [394, 397]}\n",
            "- {'text': 'ascension', 'location': [398, 407]}\n",
            "- {'text': 'spectaculaire', 'location': [408, 421]}\n",
            "- {'text': 'débute', 'location': [422, 428]}\n",
            "- {'text': 'au', 'location': [429, 431]}\n",
            "- {'text': 'Sporting', 'location': [432, 440]}\n",
            "- {'text': 'Portugal', 'location': [441, 449]}\n",
            "- {'text': ',', 'location': [449, 450]}\n",
            "- {'text': 'où', 'location': [451, 453]}\n",
            "- {'text': 'sa', 'location': [454, 456]}\n",
            "- {'text': 'grâce', 'location': [457, 462]}\n",
            "- {'text': 'sur', 'location': [463, 466]}\n",
            "- {'text': 'le', 'location': [467, 469]}\n",
            "- {'text': 'terrain', 'location': [470, 477]}\n",
            "- {'text': 'et', 'location': [478, 480]}\n",
            "- {'text': 'sa', 'location': [481, 483]}\n",
            "- {'text': 'puissance', 'location': [484, 493]}\n",
            "- {'text': 'physique', 'location': [494, 502]}\n",
            "- {'text': 'attisent', 'location': [503, 511]}\n",
            "- {'text': \"l'\", 'location': [512, 514]}\n",
            "- {'text': 'admiration', 'location': [514, 524]}\n",
            "- {'text': '.', 'location': [524, 525]}\n",
            "- {'text': \"L'\", 'location': [526, 528]}\n",
            "- {'text': 'attention', 'location': [528, 537]}\n",
            "- {'text': 'du', 'location': [538, 540]}\n",
            "- {'text': 'monde', 'location': [541, 546]}\n",
            "- {'text': 'entier', 'location': [547, 553]}\n",
            "- {'text': 'se', 'location': [554, 556]}\n",
            "- {'text': 'focalise', 'location': [557, 565]}\n",
            "- {'text': 'sur', 'location': [566, 569]}\n",
            "- {'text': 'lui', 'location': [570, 573]}\n",
            "- {'text': 'lors', 'location': [574, 578]}\n",
            "- {'text': 'de', 'location': [579, 581]}\n",
            "- {'text': 'son', 'location': [582, 585]}\n",
            "- {'text': 'passage', 'location': [586, 593]}\n",
            "- {'text': 'au', 'location': [594, 596]}\n",
            "- {'text': 'Manchester', 'location': [597, 607]}\n",
            "- {'text': 'United', 'location': [608, 614]}\n",
            "- {'text': ',', 'location': [614, 615]}\n",
            "- {'text': 'où', 'location': [616, 618]}\n",
            "- {'text': 'il', 'location': [619, 621]}\n",
            "- {'text': 'remporte', 'location': [622, 630]}\n",
            "- {'text': 'la', 'location': [631, 633]}\n",
            "- {'text': 'Ligue', 'location': [634, 639]}\n",
            "- {'text': 'des', 'location': [640, 643]}\n",
            "- {'text': 'champions', 'location': [644, 653]}\n",
            "- {'text': 'en', 'location': [654, 656]}\n",
            "- {'text': '2008', 'location': [657, 661]}\n",
            "- {'text': 'et', 'location': [662, 664]}\n",
            "- {'text': 'se', 'location': [665, 667]}\n",
            "- {'text': 'forge', 'location': [668, 673]}\n",
            "- {'text': 'une', 'location': [674, 677]}\n",
            "- {'text': 'réputation', 'location': [678, 688]}\n",
            "- {'text': 'de', 'location': [689, 691]}\n",
            "- {'text': 'génie', 'location': [692, 697]}\n",
            "- {'text': 'du', 'location': [698, 700]}\n",
            "- {'text': 'football', 'location': [701, 709]}\n",
            "- {'text': '.', 'location': [709, 710]}\n",
            "- {'text': 'Puis', 'location': [711, 715]}\n",
            "- {'text': ',', 'location': [715, 716]}\n",
            "- {'text': \"s'\", 'location': [717, 719]}\n",
            "- {'text': 'ensuit', 'location': [719, 725]}\n",
            "- {'text': 'une', 'location': [726, 729]}\n",
            "- {'text': 'épopée', 'location': [730, 736]}\n",
            "- {'text': 'au', 'location': [737, 739]}\n",
            "- {'text': 'Real', 'location': [740, 744]}\n",
            "- {'text': 'Madrid', 'location': [745, 751]}\n",
            "- {'text': ',', 'location': [751, 752]}\n",
            "- {'text': 'où', 'location': [753, 755]}\n",
            "- {'text': 'il', 'location': [756, 758]}\n",
            "- {'text': 'inscrit', 'location': [759, 766]}\n",
            "- {'text': 'son', 'location': [767, 770]}\n",
            "- {'text': 'nom', 'location': [771, 774]}\n",
            "- {'text': 'dans', 'location': [775, 779]}\n",
            "- {'text': \"l'\", 'location': [780, 782]}\n",
            "- {'text': 'histoire', 'location': [782, 790]}\n",
            "- {'text': 'avec', 'location': [791, 795]}\n",
            "- {'text': 'des', 'location': [796, 799]}\n",
            "- {'text': 'records', 'location': [800, 807]}\n",
            "- {'text': 'éblouissants', 'location': [808, 820]}\n",
            "- {'text': '.', 'location': [820, 821]}\n",
            "- {'text': 'Cependant', 'location': [822, 831]}\n",
            "- {'text': ',', 'location': [831, 832]}\n",
            "- {'text': 'Ronaldo', 'location': [833, 840]}\n",
            "- {'text': \"n'\", 'location': [841, 843]}\n",
            "- {'text': 'est', 'location': [843, 846]}\n",
            "- {'text': 'pas', 'location': [847, 850]}\n",
            "- {'text': 'seulement', 'location': [851, 860]}\n",
            "- {'text': 'un', 'location': [861, 863]}\n",
            "- {'text': 'athlète', 'location': [864, 871]}\n",
            "- {'text': 'exceptionnel', 'location': [872, 884]}\n",
            "- {'text': ',', 'location': [884, 885]}\n",
            "- {'text': 'mais', 'location': [886, 890]}\n",
            "- {'text': 'aussi', 'location': [891, 896]}\n",
            "- {'text': 'un', 'location': [897, 899]}\n",
            "- {'text': 'philanthrope', 'location': [900, 912]}\n",
            "- {'text': 'dévoué', 'location': [913, 919]}\n",
            "- {'text': ',', 'location': [919, 920]}\n",
            "- {'text': 'utilisant', 'location': [921, 930]}\n",
            "- {'text': 'sa', 'location': [931, 933]}\n",
            "- {'text': 'renommée', 'location': [934, 942]}\n",
            "- {'text': 'pour', 'location': [943, 947]}\n",
            "- {'text': 'des', 'location': [948, 951]}\n",
            "- {'text': 'œuvres', 'location': [952, 958]}\n",
            "- {'text': 'caritatives', 'location': [959, 970]}\n",
            "- {'text': '.', 'location': [970, 971]}\n",
            "- {'text': \"Aujourd'hui\", 'location': [972, 983]}\n",
            "- {'text': ',', 'location': [983, 984]}\n",
            "- {'text': 'éclatant', 'location': [985, 993]}\n",
            "- {'text': 'toujours', 'location': [994, 1002]}\n",
            "- {'text': 'de', 'location': [1003, 1005]}\n",
            "- {'text': 'son', 'location': [1006, 1009]}\n",
            "- {'text': 'talent', 'location': [1010, 1016]}\n",
            "- {'text': 'au', 'location': [1017, 1019]}\n",
            "- {'text': 'sein', 'location': [1020, 1024]}\n",
            "- {'text': 'de', 'location': [1025, 1027]}\n",
            "- {'text': \"l'\", 'location': [1028, 1030]}\n",
            "- {'text': 'équipe', 'location': [1030, 1036]}\n",
            "- {'text': 'de', 'location': [1037, 1039]}\n",
            "- {'text': 'Manchester', 'location': [1040, 1050]}\n",
            "- {'text': 'United', 'location': [1051, 1057]}\n",
            "- {'text': ',', 'location': [1057, 1058]}\n",
            "- {'text': 'Cristiano', 'location': [1059, 1068]}\n",
            "- {'text': 'Ronaldo', 'location': [1069, 1076]}\n",
            "- {'text': 'demeure', 'location': [1077, 1084]}\n",
            "- {'text': 'une', 'location': [1085, 1088]}\n",
            "- {'text': 'légende', 'location': [1089, 1096]}\n",
            "- {'text': 'vivante', 'location': [1097, 1104]}\n",
            "- {'text': ',', 'location': [1104, 1105]}\n",
            "- {'text': 'symbolisant', 'location': [1106, 1117]}\n",
            "- {'text': 'la', 'location': [1118, 1120]}\n",
            "- {'text': 'persévérance', 'location': [1121, 1133]}\n",
            "- {'text': ',', 'location': [1133, 1134]}\n",
            "- {'text': 'le', 'location': [1135, 1137]}\n",
            "- {'text': 'dévouement', 'location': [1138, 1148]}\n",
            "- {'text': 'et', 'location': [1149, 1151]}\n",
            "- {'text': \"l'\", 'location': [1152, 1154]}\n",
            "- {'text': 'excellence', 'location': [1154, 1164]}\n",
            "- {'text': 'sur', 'location': [1165, 1168]}\n",
            "- {'text': 'et', 'location': [1169, 1171]}\n",
            "- {'text': 'en', 'location': [1172, 1174]}\n",
            "- {'text': 'dehors', 'location': [1175, 1181]}\n",
            "- {'text': 'du', 'location': [1182, 1184]}\n",
            "- {'text': 'terrain', 'location': [1185, 1192]}\n",
            "- {'text': '.', 'location': [1192, 1193]}\n"
          ]
        }
      ]
    },
    {
      "cell_type": "markdown",
      "source": [
        "#**<font color=\"Purple\" > Step11 : Analysis of Entities by Location in the Used Document </font>**"
      ],
      "metadata": {
        "id": "jWEu0h2wxkmA"
      }
    },
    {
      "cell_type": "code",
      "source": [
        "response = natural_language_understanding.analyze(\n",
        "    text=document_text,\n",
        "    features={'entities': {'emotion': True, 'sentiment': True, 'limit': 2, 'mentions': True}}\n",
        ").get_result()\n",
        "\n",
        "# results\n",
        "print(\"\\nEntités par Emplacement:\")\n",
        "for entity in response.get('entities', []):\n",
        "    entity_text = entity.get('text', '')\n",
        "    entity_type = entity.get('type', '')\n",
        "    entity_sentiment = entity.get('sentiment', {}).get('label', '')\n",
        "    entity_emotion = entity.get('emotion', {}).get('sadness', 0.0)\n",
        "    print(f\"- {entity_text} ({entity_type}) - Sentiment: {entity_sentiment}, Emotion: {entity_emotion}\")\n"
      ],
      "metadata": {
        "colab": {
          "base_uri": "https://localhost:8080/"
        },
        "id": "7TqY3wIzdEHd",
        "outputId": "14e26893-8c67-4a02-852a-442cbd66e3f0"
      },
      "execution_count": null,
      "outputs": [
        {
          "output_type": "stream",
          "name": "stdout",
          "text": [
            "\n",
            "Entités par Emplacement:\n",
            "- Cristiano Ronaldo (Person) - Sentiment: positive, Emotion: 0.065736\n",
            "- Funchal (Location) - Sentiment: positive, Emotion: 0.092779\n"
          ]
        }
      ]
    },
    {
      "cell_type": "markdown",
      "source": [
        "#**<font color=\"Purple\" > Step 12 : Analysis of Concepts by Location in the Document Used </font>**"
      ],
      "metadata": {
        "id": "Y3p2DueYxmuY"
      }
    },
    {
      "cell_type": "code",
      "source": [
        "response = natural_language_understanding.analyze(\n",
        "    text=document_text,\n",
        "    features={'concepts': {'emotion': True, 'sentiment': True, 'limit': 2}}\n",
        ").get_result()\n",
        "\n",
        "# results :\n",
        "print(\"\\nConcepts par Emplacement:\")\n",
        "for concept in response.get('concepts', []):\n",
        "    concept_text = concept.get('text', '')\n",
        "    concept_sentiment = concept.get('sentiment', {}).get('label', '')\n",
        "    concept_emotion = concept.get('emotion', {}).get('sadness', 0.0)\n",
        "    print(f\"- {concept_text} - Sentiment: {concept_sentiment}, Emotion: {concept_emotion}\")\n"
      ],
      "metadata": {
        "colab": {
          "base_uri": "https://localhost:8080/"
        },
        "id": "1IH96BawdEJ4",
        "outputId": "26f6f62d-194e-4868-e312-c03598106cb3"
      },
      "execution_count": null,
      "outputs": [
        {
          "output_type": "stream",
          "name": "stdout",
          "text": [
            "\n",
            "Concepts par Emplacement:\n",
            "- Cristiano Ronaldo - Sentiment: , Emotion: 0.0\n",
            "- Madère - Sentiment: , Emotion: 0.0\n"
          ]
        }
      ]
    },
    {
      "cell_type": "markdown",
      "source": [
        "#**<font color=\"Purple\" > Step 13 : Relationships with Sentiment in the Used Document</font>**"
      ],
      "metadata": {
        "id": "hI7EwYyOxov0"
      }
    },
    {
      "cell_type": "code",
      "source": [
        "response = natural_language_understanding.analyze(\n",
        "    text=document_text,\n",
        "    features={'relations': {}}\n",
        ").get_result()\n",
        "\n",
        "# results\n",
        "print(\"\\nRelations avec Sentiment:\")\n",
        "for relation in response.get('relations', []):\n",
        "    relation_type = relation.get('type', '')\n",
        "    entity_1 = relation.get('arguments', [])[0].get('entities', [])[0].get('text', '')\n",
        "    entity_2 = relation.get('arguments', [])[1].get('entities', [])[0].get('text', '')\n",
        "    sentiment = relation.get('sentiment', {}).get('label', '')\n",
        "    print(f\"- {entity_1} et {entity_2} ({relation_type}) - Sentiment: {sentiment}\")\n"
      ],
      "metadata": {
        "colab": {
          "base_uri": "https://localhost:8080/"
        },
        "id": "ExRMtBgJdEME",
        "outputId": "0ebc9277-e283-4e8d-d403-f1871277808f"
      },
      "execution_count": null,
      "outputs": [
        {
          "output_type": "stream",
          "name": "stdout",
          "text": [
            "\n",
            "Relations avec Sentiment:\n",
            "- icône et football (employedBy) - Sentiment: \n",
            "- football et mondial (locatedAt) - Sentiment: \n",
            "- ruelles et Funchal (locatedAt) - Sentiment: \n",
            "- île et portugaise (partOf) - Sentiment: \n",
            "- ruelles et île (locatedAt) - Sentiment: \n",
            "- son et Manchester United (memberOf) - Sentiment: \n",
            "- son et équipe (memberOf) - Sentiment: \n",
            "- équipe et Manchester United (partOf) - Sentiment: \n"
          ]
        }
      ]
    }
  ]
}